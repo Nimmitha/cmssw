{
    "cells": [
        {
            "cell_type": "code",
            "execution_count": 1,
            "metadata": {},
            "outputs": [],
            "source": [
                "%load_ext autoreload\n",
                "%autoreload 2"
            ]
        },
        {
            "cell_type": "code",
            "execution_count": 2,
            "metadata": {},
            "outputs": [],
            "source": [
                "import pandas as pd\n",
                "import os\n",
                "# import argparse\n",
                "import sys\n",
                "\n",
                "from helperClasses import *"
            ]
        },
        {
            "cell_type": "code",
            "execution_count": 14,
            "metadata": {},
            "outputs": [],
            "source": [
                "run_data = True\n",
                "run_mc = True\n",
                "\n",
                "config = load_config('config.yaml')\n",
                "\n",
                "events_data = None\n",
                "events_mc = None\n",
                "\n",
                "# Load events\n",
                "if run_data:\n",
                "    events_data = load_events(config['data_path'], BaseSchema, config['entry_stop'])\n",
                "    if events_data is None:\n",
                "        print(\"Failed to load data events. Skipping data analysis.\")\n",
                "        run_data = False\n",
                "\n",
                "if run_mc:\n",
                "    events_mc = load_events(config['mc_path'], BaseSchema, config['entry_stop'])\n",
                "    if events_mc is None:\n",
                "        print(\"Failed to load MC events. Skipping MC analysis.\")\n",
                "        run_mc = False\n",
                "\n",
                "if not run_data and not run_mc:\n",
                "    print(\"No valid data or MC events loaded. Exiting.\")\n",
                "    sys.exit(1)\n",
                "\n",
                "# Select columns\n",
                "if run_data:\n",
                "    events_data = events_data[config['columns']].compute()\n",
                "if run_mc:\n",
                "    events_mc = events_mc[config['columns']].compute()"
            ]
        },
        {
            "cell_type": "code",
            "execution_count": 15,
            "metadata": {},
            "outputs": [],
            "source": [
                "save_path = config['savepath_base']\n",
                "os.makedirs(save_path, exist_ok=True)"
            ]
        },
        {
            "cell_type": "code",
            "execution_count": 16,
            "metadata": {},
            "outputs": [],
            "source": [
                "events_data = process_ups_candidates(events_data, 2.8, 3.4, 70, 110)\n",
                "events_mc = process_ups_candidates(events_mc, 3.0, 3.2, 80, 100)"
            ]
        },
        {
            "cell_type": "code",
            "execution_count": 19,
            "metadata": {},
            "outputs": [],
            "source": [
                "def create_cutdict(events):\n",
                "    cutdict = CutDict()\n",
                "    cutdict.add_cut(0,\n",
                "                    CutType(name=\"0\",\n",
                "                        long_name=\"Preselection\",\n",
                "                        mask=events['B_J1_mass'] > -1, \n",
                "                        variables=['B_J1_mass'], \n",
                "                        plot=False))\n",
                "\n",
                "    cutdict.add_cut(1,\n",
                "                        CutType(name=\"1\",\n",
                "                            long_name=\"Muon Trigger\",\n",
                "                            mask=events['Mu_TriggerPath'] == 1, \n",
                "                            variables=['Mu_TriggerPath'], \n",
                "                            plot=False))\n",
                "\n",
                "    cutdict.add_cut(2, \n",
                "                        CutType(name=\"2\",\n",
                "                            long_name=\"Soft Muons\",\n",
                "                            mask=(events['B_Mu1_soft'] == 1) & (events['B_Mu2_soft'] == 1) & (events['B_Mu3_soft'] == 1) & (events['B_Mu4_soft'] == 1),\n",
                "                            variables=['B_J1_soft', 'B_J2_soft', 'B_J3_soft', 'B_J4_soft'],\n",
                "                            plot=False))\n",
                "\n",
                "    cutdict.add_cut(3,\n",
                "                        CutType(name=\"3\",\n",
                "                            long_name=\"Muon pT\",\n",
                "                            mask=(events['B_Mu1_pt'] > 3) & (events['B_Mu2_pt'] > 3) & (events['B_Mu3_pt'] > 3) & (events['B_Mu4_pt'] > 3),\n",
                "                            variables=['B_Mu1_pt', 'B_Mu2_pt', 'B_Mu3_pt', 'B_Mu4_pt'],\n",
                "                            plot=True,\n",
                "                            bins=100,\n",
                "                            x_range=(0, 100),\n",
                "                            labels=[\"Mu1_pt\", \"Mu2_pt\", \"Mu3_pt\", \"Mu4_pt\"],\n",
                "                            xlabel=\"pT (GeV)\"))\n",
                "\n",
                "    cutdict.add_cut(4,\n",
                "                        CutType(name=\"4\",\n",
                "                            long_name=\"Detector acceptance\",\n",
                "                            mask=(abs(events['B_Mu1_eta']) < 2.4) & (abs(events['B_Mu2_eta']) < 2.4) & (abs(events['B_Mu3_eta']) < 2.4) & (abs(events['B_Mu4_eta']) < 2.4),\n",
                "                            variables=['B_Mu1_eta', 'B_Mu2_eta', 'B_Mu3_eta', 'B_Mu4_eta'],\n",
                "                            plot=True,\n",
                "                            bins=100,\n",
                "                            x_range=(-3, 3),\n",
                "                            labels=[\"Mu1_eta\", \"Mu2_eta\", \"Mu3_eta\", \"Mu4_eta\"],\n",
                "                            xlabel=\"Eta\"))\n",
                "\n",
                "    cutdict.add_cut(5,\n",
                "                        CutType(name=\"5\",\n",
                "                            long_name=\"Any dimuon pair vertex\",\n",
                "                            mask=((events['B_J1_VtxProb'] > 0.01) & (events['B_J2_VtxProb'] > 0.01)) | ((events['B_J3_VtxProb'] > 0.01) & (events['B_J4_VtxProb'] > 0.01)),\n",
                "                            variables=['B_J1_VtxProb', 'B_J2_VtxProb', 'B_J3_VtxProb', 'B_J4_VtxProb'],\n",
                "                            plot=True,\n",
                "                            bins=100,\n",
                "                            x_range=(0, 1),\n",
                "                            labels=[\"J1_VtxProb\", \"J2_VtxProb\", \"J3_VtxProb\", \"J4_VtxProb\"],\n",
                "                            xlabel=\"Vtx Prob\"))\n",
                "\n",
                "    cutdict.add_cut(6,\n",
                "                        CutType(name=\"6\",\n",
                "                            long_name=\"Four muon vertex\",\n",
                "                            mask=(events['FourL_VtxProb'] > 0.01),\n",
                "                            variables=['FourL_VtxProb'],\n",
                "                            plot=True,\n",
                "                            bins=100,\n",
                "                            x_range=(0, 1),\n",
                "                            labels=[\"FourL_VtxProb\"],\n",
                "                            xlabel=\"Vtx Prob\"))\n",
                "\n",
                "    cutdict.add_cut(7,\n",
                "                        CutType(name=\"7\",\n",
                "                            long_name=\"Candidate Combine\",\n",
                "                            mask=events['JPsiMass'] > 0,\n",
                "                            variables=['JPsiMass'],\n",
                "                            plot=False))\n",
                "\n",
                "    cutdict.add_cut(8,\n",
                "                        CutType(name=\"8\",\n",
                "                            long_name=\"Dimuon Vertex Prob\",\n",
                "                            mask=(events['JPsi_VtxProb'] > 0.01) & (events['Z_VtxProb'] > 0.01),\n",
                "                            variables=['JPsi_VtxProb', 'Z_VtxProb'],\n",
                "                            plot=True,\n",
                "                            bins=100,\n",
                "                            x_range=(0, 1),\n",
                "                            labels=[\"VtxProb1\", \"VtxProb2\"],\n",
                "                            xlabel=\"Vtx Prob\"))\n",
                "\n",
                "    cutdict.add_cut(9,\n",
                "                        CutType(name=\"9\",\n",
                "                            long_name=\"Dimuon pT\",\n",
                "                            mask=(events['JPsi_Pt'] > 5) & (events['Z_Pt'] > 5),\n",
                "                            variables=['JPsi_Pt', 'Z_Pt'],\n",
                "                            plot=True,\n",
                "                            bins=100,\n",
                "                            x_range=(0, 20),\n",
                "                            labels=[\"JPsi_Pt\", \"Z_Pt\"],\n",
                "                            xlabel=\"pT (GeV)\"))\n",
                "\n",
                "    cutdict.add_cut(10,\n",
                "                        CutType(name=\"10\",\n",
                "                            long_name=\"Dimuon mass\",\n",
                "                            mask=(events['JPsi_mass'] > 2.8) & (events['JPsi_mass'] < 3.4) & (events['Z_mass'] > 70) & (events['Z_mass'] < 110),\n",
                "                            variables=['JPsi_mass', 'Z_mass'],\n",
                "                            plot=True,\n",
                "                            bins=100,\n",
                "                            x_range=(0, 20),\n",
                "                            labels=[\"JPsi_mass\", \"Z_mass\"],\n",
                "                            xlabel=\"mass (GeV)\"))\n",
                "\n",
                "\n",
                "    cutdict.add_cut(11,\n",
                "                        CutType(name=\"11\",\n",
                "                            long_name=\"Four muon pT\",\n",
                "                            mask=(events['FourL_pt'] > 5),\n",
                "                            variables=['FourL_pt'],\n",
                "                            plot=True,\n",
                "                            bins=100,\n",
                "                            x_range=(0, 100),\n",
                "                            labels=[\"FourL_pt\"],\n",
                "                            xlabel=\"pT (GeV)\"))\n",
                "\n",
                "\n",
                "    cutdict.add_cut(12,\n",
                "                        CutType(name=\"12\",\n",
                "                            long_name=\"Four muon mass signal\",\n",
                "                            mask=(events['FourL_mass'] > 112) & (events['FourL_mass'] < 162),\n",
                "                            variables=['FourL_mass'],\n",
                "                            plot=True,\n",
                "                            bins=50,\n",
                "                            x_range=(112, 162),\n",
                "                            labels=[\"FourL_mass\"],\n",
                "                            xlabel=\"mass (GeV)\"))\n",
                "\n",
                "    cutdict.add_cut(13,\n",
                "                        CutType(name=\"13\",\n",
                "                            long_name=\"Four muon mass background\",\n",
                "                            mask=(events['FourL_mass'] < 120) | (events['FourL_mass'] > 130),\n",
                "                            variables=['FourL_mass'],\n",
                "                            plot=True,\n",
                "                            bins=50,\n",
                "                            x_range=(0, 300),\n",
                "                            labels=[\"FourL_mass\"],\n",
                "                            xlabel=\"mass (GeV)\"))\n",
                "    \n",
                "    return cutdict\n"
            ]
        },
        {
            "cell_type": "code",
            "execution_count": 20,
            "metadata": {},
            "outputs": [],
            "source": [
                "cutdict_data = create_cutdict(events_data)\n",
                "cutdict_mc = create_cutdict(events_mc)"
            ]
        },
        {
            "cell_type": "code",
            "execution_count": 22,
            "metadata": {},
            "outputs": [
                {
                    "name": "stdout",
                    "output_type": "stream",
                    "text": [
                        "0 Cut: 0 (Preselection)\n",
                        "1 Cut: 1 (Muon Trigger)\n",
                        "2 Cut: 2 (Soft Muons)\n",
                        "3 Cut: 3 (Muon pT)\n",
                        "4 Cut: 4 (Detector acceptance)\n",
                        "5 Cut: 5 (Any dimuon pair vertex)\n",
                        "6 Cut: 6 (Four muon vertex)\n",
                        "7 Cut: 7 (Candidate Combine)\n",
                        "8 Cut: 8 (Dimuon Vertex Prob)\n",
                        "9 Cut: 9 (Dimuon pT)\n",
                        "10 Cut: 10 (Dimuon mass)\n",
                        "11 Cut: 11 (Four muon pT)\n",
                        "12 Cut: 12 (Four muon mass signal)\n",
                        "13 Cut: 13 (Four muon mass background)\n"
                    ]
                }
            ],
            "source": [
                "for key, item in cutdict_data.cutdict.items():\n",
                "    print(key, item)"
            ]
        },
        {
            "cell_type": "code",
            "execution_count": 23,
            "metadata": {},
            "outputs": [
                {
                    "name": "stdout",
                    "output_type": "stream",
                    "text": [
                        "0 Cut: 0 (Preselection)\n",
                        "1 Cut: 1 (Muon Trigger)\n",
                        "2 Cut: 2 (Soft Muons)\n",
                        "3 Cut: 3 (Muon pT)\n",
                        "4 Cut: 4 (Detector acceptance)\n",
                        "5 Cut: 5 (Any dimuon pair vertex)\n",
                        "6 Cut: 6 (Four muon vertex)\n",
                        "7 Cut: 7 (Candidate Combine)\n",
                        "8 Cut: 8 (Dimuon Vertex Prob)\n",
                        "9 Cut: 9 (Dimuon pT)\n",
                        "10 Cut: 10 (Dimuon mass)\n",
                        "11 Cut: 11 (Four muon pT)\n",
                        "12 Cut: 12 (Four muon mass signal)\n",
                        "13 Cut: 13 (Four muon mass background)\n"
                    ]
                }
            ],
            "source": [
                "for key, item in cutdict_mc.cutdict.items():\n",
                "    print(key, item)"
            ]
        },
        {
            "cell_type": "code",
            "execution_count": 28,
            "metadata": {},
            "outputs": [],
            "source": [
                "signal_cuts = [0, 1, 2, 3, 4, 5, 6, 7, 8, 9, 10, 11, 12]\n",
                "background_cuts = [0, 1, 2, 3, 4, 5, 6, 7, 8, 9, 10, 11, 13]\n",
                "\n",
                "cut_analysis_data = CutAnalysis(events_data, cutdict_data)\n",
                "cut_analysis_mc = CutAnalysis(events_mc, cutdict_mc)"
            ]
        },
        {
            "cell_type": "code",
            "execution_count": 29,
            "metadata": {},
            "outputs": [
                {
                    "name": "stdout",
                    "output_type": "stream",
                    "text": [
                        "Cut 0: Preselection - 1389300 events, 499503 candidates\n",
                        "Cut 1: Muon Trigger - 253858 events, 156201 candidates\n",
                        "Cut 2: Soft Muons - 46683 events, 41296 candidates\n",
                        "Cut 3: Muon pT - 32259 events, 28024 candidates\n",
                        "Cut 4: Detector acceptance - 31107 events, 27119 candidates\n",
                        "Cut 5: Any dimuon pair vertex - 30668 events, 26762 candidates\n",
                        "Cut 6: Four muon vertex - 27592 events, 24186 candidates\n",
                        "Cut 7: Candidate Combine - 1744 events, 1647 candidates\n",
                        "Cut 8: Dimuon Vertex Prob - 1686 events, 1597 candidates\n",
                        "Cut 9: Dimuon pT - 1508 events, 1436 candidates\n",
                        "Cut 10: Dimuon mass - 1315 events, 1259 candidates\n",
                        "Cut 11: Four muon pT - 1267 events, 1212 candidates\n",
                        "Cut 13: Four muon mass background - 1146 events, 1098 candidates\n"
                    ]
                }
            ],
            "source": [
                "cutSummary_data = cut_analysis_data.prepare_masks(background_cuts)"
            ]
        },
        {
            "cell_type": "code",
            "execution_count": 30,
            "metadata": {},
            "outputs": [
                {
                    "name": "stdout",
                    "output_type": "stream",
                    "text": [
                        "Cut 0: Preselection - 4691 events, 4291 candidates\n",
                        "Cut 1: Muon Trigger - 4507 events, 4117 candidates\n",
                        "Cut 2: Soft Muons - 4214 events, 3997 candidates\n",
                        "Cut 3: Muon pT - 3976 events, 3834 candidates\n",
                        "Cut 4: Detector acceptance - 3919 events, 3782 candidates\n",
                        "Cut 5: Any dimuon pair vertex - 3892 events, 3759 candidates\n",
                        "Cut 6: Four muon vertex - 3768 events, 3642 candidates\n",
                        "Cut 7: Candidate Combine - 3358 events, 3346 candidates\n",
                        "Cut 8: Dimuon Vertex Prob - 3283 events, 3271 candidates\n",
                        "Cut 9: Dimuon pT - 3213 events, 3202 candidates\n",
                        "Cut 10: Dimuon mass - 3213 events, 3202 candidates\n",
                        "Cut 11: Four muon pT - 3089 events, 3079 candidates\n",
                        "Cut 12: Four muon mass signal - 3077 events, 3068 candidates\n"
                    ]
                }
            ],
            "source": [
                "cutSummary_mc = cut_analysis_mc.prepare_masks(signal_cuts)"
            ]
        },
        {
            "cell_type": "code",
            "execution_count": null,
            "metadata": {},
            "outputs": [],
            "source": [
                "cutSummarydf = {k: v for k, v in cutSummary.items() if k not in ['mask', 'cutobj']}\n",
                "pd.DataFrame(cutSummarydf)"
            ]
        },
        {
            "cell_type": "code",
            "execution_count": null,
            "metadata": {},
            "outputs": [],
            "source": [
                "plotter = Plotter(events_data, cutdict, save_path)\n",
                "plotter.plot_preselection()"
            ]
        },
        {
            "cell_type": "code",
            "execution_count": null,
            "metadata": {},
            "outputs": [],
            "source": [
                "plotter.plot_summary(cutSummary)"
            ]
        },
        {
            "cell_type": "code",
            "execution_count": null,
            "metadata": {},
            "outputs": [],
            "source": [
                "cuts_to_show = [0, 1, 2, 3, 4, 5, 6, 7, 8, 9, 10, 11, 12]\n",
                "plotter.plot_single_variable(cuts_to_show, cutSummary)"
            ]
        },
        {
            "cell_type": "code",
            "execution_count": null,
            "metadata": {},
            "outputs": [],
            "source": [
                "final = events_data[cutSummary['mask'][-1]]\n",
                "df = ak.to_dataframe(final).reset_index(drop=True)\n",
                "cols_to_keep = ['B_Mu1_pt', 'B_Mu1_eta', 'B_Mu1_phi', 'B_Mu2_pt', 'B_Mu2_eta', 'B_Mu2_phi', 'B_Mu3_pt', 'B_Mu3_eta', 'B_Mu3_phi', 'B_Mu4_pt', 'B_Mu4_eta', 'B_Mu4_phi']\n",
                "df = df[cols_to_keep]"
            ]
        },
        {
            "cell_type": "code",
            "execution_count": null,
            "metadata": {},
            "outputs": [],
            "source": []
        },
        {
            "cell_type": "code",
            "execution_count": null,
            "metadata": {},
            "outputs": [],
            "source": []
        },
        {
            "cell_type": "code",
            "execution_count": null,
            "metadata": {},
            "outputs": [],
            "source": [
                "# a = events_data[cutSummary['mask'][-1]]\n",
                "# b = a.B_J1_mass\n",
                "# len(b[ak.num(b, axis=1) > 0])\n",
                "# ak.sum(ak.num(b, axis=1))"
            ]
        },
        {
            "cell_type": "code",
            "execution_count": null,
            "metadata": {},
            "outputs": [],
            "source": [
                "df"
            ]
        },
        {
            "cell_type": "code",
            "execution_count": null,
            "metadata": {},
            "outputs": [],
            "source": []
        },
        {
            "cell_type": "code",
            "execution_count": null,
            "metadata": {},
            "outputs": [],
            "source": []
        },
        {
            "cell_type": "code",
            "execution_count": null,
            "metadata": {},
            "outputs": [],
            "source": [
                "# def get_FOM(events_data, events_mc, savepath_data, savepath_mc, elePt_low, elePt_high, eleEta, ymass_upper):\n",
                "#     \"\"\"\n",
                "#     Calculate the Figure of Merit.\n",
                "#     \"\"\"\n",
                "#     analysis_data = Analysis(events_data, savepath_data)\n",
                "#     analysis_mc = Analysis(events_mc, savepath_mc)\n",
                "    \n",
                "#     nb = analysis_data.get_count(elePt_low, elePt_high, eleEta, ymass_upper)\n",
                "#     nEff = analysis_mc.get_count(elePt_low, elePt_high, eleEta, ymass_upper) / 100\n",
                "#     FOM = nEff / np.sqrt(nb)\n",
                "#     return nEff, nb, FOM\n",
                "\n",
                "# def load_config(config_path):\n",
                "#     \"\"\"\n",
                "#     Load configuration from a YAML file.\n",
                "#     \"\"\"\n",
                "#     try:\n",
                "#         with open(config_path, 'r') as config_file:\n",
                "#             return yaml.safe_load(config_file)\n",
                "#     except FileNotFoundError:\n",
                "#         print(f\"Error: Configuration file '{config_path}' not found.\")\n",
                "#         sys.exit(1)\n",
                "#     except yaml.YAMLError as e:\n",
                "#         print(f\"Error parsing YAML configuration file: {e}\")\n",
                "#         sys.exit(1)\n",
                "\n",
                "# def load_events(file_path, schema_class, entry_stop):\n",
                "#     \"\"\"\n",
                "#     Load events from a ROOT file with error handling.\n",
                "#     \"\"\"\n",
                "#     try:\n",
                "#         events = NanoEventsFactory.from_root(\n",
                "#             {file_path: \"ntuple\"}, \n",
                "#             schemaclass=schema_class, \n",
                "#             entry_stop=entry_stop\n",
                "#         ).events()\n",
                "#         return events\n",
                "#     except FileNotFoundError:\n",
                "#         print(f\"Error: File '{file_path}' not found.\")\n",
                "#         return None\n",
                "#     except Exception as e:\n",
                "#         print(f\"Error loading events from '{file_path}': {e}\")\n",
                "#         return None\n",
                "\n",
                "# def main(config_path='config.yaml', run_data=True, run_mc=True):\n",
                "#     # Load configuration\n",
                "#     config = load_config(config_path)\n",
                "\n",
                "#     events_data = None\n",
                "#     events_mc = None\n",
                "\n",
                "#     # Load events\n",
                "#     if run_data:\n",
                "#         events_data = load_events(config['data_path'], BaseSchema, config['entry_stop'])\n",
                "#         if events_data is None:\n",
                "#             print(\"Failed to load data events. Skipping data analysis.\")\n",
                "#             run_data = False\n",
                "\n",
                "#     if run_mc:\n",
                "#         events_mc = load_events(config['mc_path'], BaseSchema, config['entry_stop'])\n",
                "#         if events_mc is None:\n",
                "#             print(\"Failed to load MC events. Skipping MC analysis.\")\n",
                "#             run_mc = False\n",
                "\n",
                "#     if not run_data and not run_mc:\n",
                "#         print(\"No valid data or MC events loaded. Exiting.\")\n",
                "#         sys.exit(1)\n",
                "\n",
                "#     # Select columns\n",
                "#     if run_data:\n",
                "#         events_data = events_data[config['columns']].compute()\n",
                "#     if run_mc:\n",
                "#         events_mc = events_mc[config['columns']].compute()\n",
                "\n",
                "#     # Create DataFrame to store results\n",
                "#     df = pd.DataFrame(columns=['elePt_low', 'elePt_high', 'eleEta', 'ymass_upper', 'Efficiency', 'Background', 'FOM'])\n",
                "\n",
                "#     # Loop over different cut values\n",
                "#     for elePt_low in config['cut_parameters']['elePt_low']:\n",
                "#         for elePt_high in config['cut_parameters']['elePt_high']:\n",
                "#             for eleEta in config['cut_parameters']['eleEta']:\n",
                "#                 for ymass_upper in config['cut_parameters']['ymass_upper']:\n",
                "#                     savepath_data = f\"{config['savepath_data_base']}el_{elePt_low}_eh_{elePt_high}_eE_{eleEta}_yup_{ymass_upper}\"\n",
                "#                     savepath_mc = f\"{config['savepath_mc_base']}el_{elePt_low}_eh_{elePt_high}_eE_{eleEta}_yup_{ymass_upper}\"\n",
                "\n",
                "#                     os.makedirs(savepath_data, exist_ok=True)\n",
                "#                     os.makedirs(savepath_mc, exist_ok=True)\n",
                "\n",
                "#                     eff, nb, FOM = 0, 0, 0\n",
                "                    \n",
                "#                     if run_data and run_mc:\n",
                "#                         eff, nb, FOM = get_FOM(events_data, events_mc, savepath_data, savepath_mc, elePt_low, elePt_high, eleEta, ymass_upper)\n",
                "#                     elif run_data:\n",
                "#                         analysis_data = Analysis(events_data, savepath_data)\n",
                "#                         nb = analysis_data.get_count(elePt_low, elePt_high, eleEta, ymass_upper)\n",
                "#                     elif run_mc:\n",
                "#                         analysis_mc = Analysis(events_mc, savepath_mc)\n",
                "#                         eff = analysis_mc.get_count(elePt_low, elePt_high, eleEta, ymass_upper) / 100\n",
                "\n",
                "#                     df.loc[len(df)] = {'elePt_low': elePt_low, 'elePt_high': elePt_high, 'eleEta': eleEta, 'ymass_upper': ymass_upper, 'Efficiency': eff, 'Background': nb, 'FOM': FOM}\n",
                "#                     print(f\"elePt_low: {elePt_low}, elePt_high: {elePt_high}, eleEta: {eleEta}, ymass_upper: {ymass_upper}\")\n",
                "#                     print(f\"Efficiency: {eff}\")\n",
                "#                     print(f\"Background: {nb}\")\n",
                "#                     print(f\"FOM: {FOM}\")\n",
                "#                     print(df)\n",
                "#                     print(\"\\n\")\n",
                "\n",
                "#     print(df)\n",
                "#     df.to_csv(config['output_file'], index=False)\n",
                "\n",
                "# # if __name__ == \"__main__\":\n",
                "# #     parser = argparse.ArgumentParser(description=\"Run particle physics analysis on data and/or MC events.\")\n",
                "# #     parser.add_argument(\"--config\", default=\"config.yaml\", help=\"Path to the configuration file\")\n",
                "# #     parser.add_argument(\"--data\", action=\"store_true\", help=\"Run analysis on data events\")\n",
                "# #     parser.add_argument(\"--mc\", action=\"store_true\", help=\"Run analysis on MC events\")\n",
                "# #     args = parser.parse_args()\n",
                "\n",
                "# #     if not args.data and not args.mc:\n",
                "# #         print(\"Error: You must specify at least one of --data or --mc\")\n",
                "# #         sys.exit(1)\n",
                "\n",
                "#     # main(config_path=args.config, run_data=args.data, run_mc=args.mc)"
            ]
        },
        {
            "cell_type": "code",
            "execution_count": null,
            "metadata": {},
            "outputs": [],
            "source": [
                "# main(config_path=\"config.yaml\", run_data=True, run_mc=False)"
            ]
        },
        {
            "cell_type": "code",
            "execution_count": null,
            "metadata": {},
            "outputs": [],
            "source": []
        }
    ],
    "metadata": {
        "kernelspec": {
            "display_name": "work",
            "language": "python",
            "name": "python3"
        },
        "language_info": {
            "codemirror_mode": {
                "name": "ipython",
                "version": 3
            },
            "file_extension": ".py",
            "mimetype": "text/x-python",
            "name": "python",
            "nbconvert_exporter": "python",
            "pygments_lexer": "ipython3",
            "version": "3.9.19"
        }
    },
    "nbformat": 4,
    "nbformat_minor": 2
}