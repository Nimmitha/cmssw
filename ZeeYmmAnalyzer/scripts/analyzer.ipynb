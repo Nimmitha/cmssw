{
 "cells": [
  {
   "cell_type": "code",
   "execution_count": 2,
   "metadata": {},
   "outputs": [],
   "source": [
    "import uproot as up\n",
    "import pandas as pd\n",
    "import numpy as np\n",
    "import awkward as ak\n",
    "import mplhep as hep\n",
    "hep.style.use(hep.style.CMS)\n",
    "import matplotlib.pyplot as plt"
   ]
  },
  {
   "cell_type": "code",
   "execution_count": 3,
   "metadata": {},
   "outputs": [],
   "source": [
    "dataset = '../outputs/EGamma/crab_TTree_13TeV_zeeymm_2022C.root'"
   ]
  },
  {
   "cell_type": "code",
   "execution_count": 4,
   "metadata": {},
   "outputs": [],
   "source": [
    "file = up.open(dataset)"
   ]
  },
  {
   "cell_type": "code",
   "execution_count": 5,
   "metadata": {},
   "outputs": [],
   "source": [
    "events = file['ntuple;1']"
   ]
  },
  {
   "cell_type": "code",
   "execution_count": 6,
   "metadata": {},
   "outputs": [
    {
     "data": {
      "text/plain": [
       "['nB',\n",
       " 'B_Z_GenMuonPt',\n",
       " 'B_Z_GenMuonEta',\n",
       " 'B_Z_GenMuonPhi',\n",
       " 'B_J_GenMuonPt',\n",
       " 'B_J_GenMuonEta',\n",
       " 'B_J_GenMuonPhi',\n",
       " 'Run',\n",
       " 'LumiBlock',\n",
       " 'Event',\n",
       " 'FourL_mass',\n",
       " 'FourL_px',\n",
       " 'FourL_py',\n",
       " 'FourL_pz',\n",
       " 'FourL_pt',\n",
       " 'FourL_eta',\n",
       " 'FourL_phi',\n",
       " 'FourL_VtxProb',\n",
       " 'FourL_PVx',\n",
       " 'FourL_PVy',\n",
       " 'FourL_PVz',\n",
       " 'FourL_PVxError',\n",
       " 'FourL_PVyError',\n",
       " 'FourL_PVzError',\n",
       " 'B_Z_TriggerPath',\n",
       " 'B_Z_TriggerPath1',\n",
       " 'B_Z_TriggerPt1',\n",
       " 'B_Z_TriggerEta1',\n",
       " 'B_Z_TriggerPhi1',\n",
       " 'B_Z_TriggerPt2',\n",
       " 'B_Z_TriggerEta2',\n",
       " 'B_Z_TriggerPhi2',\n",
       " 'B_Z_TriggerPt3',\n",
       " 'B_Z_TriggerEta3',\n",
       " 'B_Z_TriggerPhi3',\n",
       " 'B_Z_TriggerPt4',\n",
       " 'B_Z_TriggerEta4',\n",
       " 'B_Z_TriggerPhi4',\n",
       " 'B_Z_TriggerPt5',\n",
       " 'B_Z_TriggerEta5',\n",
       " 'B_Z_TriggerPhi5',\n",
       " 'B_Z_Trigger32Pt1',\n",
       " 'B_Z_Trigger32Eta1',\n",
       " 'B_Z_Trigger32Phi1',\n",
       " 'B_Z_Trigger32Pt2',\n",
       " 'B_Z_Trigger32Eta2',\n",
       " 'B_Z_Trigger32Phi2',\n",
       " 'B_Z_Trigger32Pt3',\n",
       " 'B_Z_Trigger32Eta3',\n",
       " 'B_Z_Trigger32Phi3',\n",
       " 'B_Z_Trigger32Pt4',\n",
       " 'B_Z_Trigger32Eta4',\n",
       " 'B_Z_Trigger32Phi4',\n",
       " 'B_Z_Trigger32Pt5',\n",
       " 'B_Z_Trigger32Eta5',\n",
       " 'B_Z_Trigger32Phi5',\n",
       " 'B_Z_mass',\n",
       " 'B_Z_VtxProb',\n",
       " 'B_Z_px',\n",
       " 'B_Z_py',\n",
       " 'B_Z_pz',\n",
       " 'B_Z_pt',\n",
       " 'B_Z_eta',\n",
       " 'B_Z_phi',\n",
       " 'B_Z_rapidity',\n",
       " 'B_Z_VtxPx',\n",
       " 'B_Z_VtxPy',\n",
       " 'B_Z_VtxPz',\n",
       " 'B_Z_VtxPt',\n",
       " 'B_Z_VtxEta',\n",
       " 'B_Z_VtxPhi',\n",
       " 'B_Z_VtxRapidity',\n",
       " 'B_Z_VtxMass',\n",
       " 'B_Z_PVx',\n",
       " 'B_Z_PVy',\n",
       " 'B_Z_PVz',\n",
       " 'B_Z_PVxError',\n",
       " 'B_Z_PVyError',\n",
       " 'B_Z_PVzError',\n",
       " 'B_Z_px1',\n",
       " 'B_Z_py1',\n",
       " 'B_Z_pz1',\n",
       " 'B_Z_pt1',\n",
       " 'B_Z_eta1',\n",
       " 'B_Z_SCeta1',\n",
       " 'B_Z_phi1',\n",
       " 'B_Z_energy1',\n",
       " 'B_Z_energyCorr1',\n",
       " 'B_Z_ecalIso1',\n",
       " 'B_Z_hcalIso1',\n",
       " 'B_Z_trackIso1',\n",
       " 'B_Z_looseCutBase1',\n",
       " 'B_Z_mediumCutBase1',\n",
       " 'B_Z_loose90wp1',\n",
       " 'B_Z_mvaIsoWP90_1',\n",
       " 'B_Z_looseLoosewp1',\n",
       " 'B_Z_mvaIsoWP80_1',\n",
       " 'B_Z_loose1',\n",
       " 'B_Z_charge1',\n",
       " 'B_Z_px2',\n",
       " 'B_Z_py2',\n",
       " 'B_Z_pz2',\n",
       " 'B_Z_pt2',\n",
       " 'B_Z_eta2',\n",
       " 'B_Z_SCeta2',\n",
       " 'B_Z_phi2',\n",
       " 'B_Z_energy2',\n",
       " 'B_Z_energyCorr2',\n",
       " 'B_Z_ecalIso2',\n",
       " 'B_Z_hcalIso2',\n",
       " 'B_Z_trackIso2',\n",
       " 'B_Z_looseCutBase2',\n",
       " 'B_Z_mediumCutBase2',\n",
       " 'B_Z_loose90wp2',\n",
       " 'B_Z_mvaIsoWP90_2',\n",
       " 'B_Z_looseLoosewp2',\n",
       " 'B_Z_mvaIsoWP80_2',\n",
       " 'B_Z_loose2',\n",
       " 'B_Z_charge2',\n",
       " 'B_Z_dxy1',\n",
       " 'B_Z_dxy2',\n",
       " 'B_Z_dz1',\n",
       " 'B_Z_dz2',\n",
       " 'B_J_dca',\n",
       " 'B_J_mass',\n",
       " 'B_J_px',\n",
       " 'B_J_py',\n",
       " 'B_J_pz',\n",
       " 'B_J_pt',\n",
       " 'B_J_eta',\n",
       " 'B_J_phi',\n",
       " 'B_J_rapidity',\n",
       " 'B_J_VtxPx',\n",
       " 'B_J_VtxPy',\n",
       " 'B_J_VtxPz',\n",
       " 'B_J_VtxPt',\n",
       " 'B_J_VtxEta',\n",
       " 'B_J_VtxPhi',\n",
       " 'B_J_VtxRapidity',\n",
       " 'B_J_VtxMass',\n",
       " 'B_J_PVx',\n",
       " 'B_J_PVy',\n",
       " 'B_J_PVz',\n",
       " 'B_J_PVxError',\n",
       " 'B_J_PVyError',\n",
       " 'B_J_PVzError',\n",
       " 'B_J_px1',\n",
       " 'B_J_py1',\n",
       " 'B_J_pz1',\n",
       " 'B_J_pt1',\n",
       " 'B_J_eta1',\n",
       " 'B_J_phi1',\n",
       " 'B_J_charge1',\n",
       " 'B_J_soft1',\n",
       " 'B_J_tight1',\n",
       " 'B_J_loose1',\n",
       " 'B_J_px2',\n",
       " 'B_J_py2',\n",
       " 'B_J_pz2',\n",
       " 'B_J_pt2',\n",
       " 'B_J_eta2',\n",
       " 'B_J_phi2',\n",
       " 'B_J_charge2',\n",
       " 'B_J_soft2',\n",
       " 'B_J_tight2',\n",
       " 'B_J_loose2',\n",
       " 'B_J_VtxProb',\n",
       " 'B_J_xyP',\n",
       " 'B_J_xyM',\n",
       " 'B_J_zP',\n",
       " 'B_J_zM',\n",
       " 'mumC2',\n",
       " 'mumNHmvaisoWP90 on both electron hits',\n",
       " 'mumNPHits',\n",
       " 'mupC2',\n",
       " 'mupNHits',\n",
       " 'mupNPHits']"
      ]
     },
     "execution_count": 6,
     "metadata": {},
     "output_type": "execute_result"
    }
   ],
   "source": [
    "events.keys()"
   ]
  },
  {
   "cell_type": "code",
   "execution_count": 7,
   "metadata": {},
   "outputs": [],
   "source": [
    "columns = ['B_J_mass', 'B_Z_TriggerPath']\n",
    "branches = events.arrays(columns)"
   ]
  },
  {
   "cell_type": "code",
   "execution_count": 8,
   "metadata": {},
   "outputs": [
    {
     "data": {
      "text/html": [
       "<pre>[{B_J_mass: [4.33], B_Z_TriggerPath: [0]},\n",
       " {B_J_mass: [3.08], B_Z_TriggerPath: [1]},\n",
       " {B_J_mass: [5.62], B_Z_TriggerPath: [0]},\n",
       " {B_J_mass: [9.83, 7.68], B_Z_TriggerPath: [1, 1]},\n",
       " {B_J_mass: [10.4, 10.4], B_Z_TriggerPath: [1, 1]},\n",
       " {B_J_mass: [12], B_Z_TriggerPath: [0]},\n",
       " {B_J_mass: [10.7, 4.52], B_Z_TriggerPath: [1, 1]},\n",
       " {B_J_mass: [6.6], B_Z_TriggerPath: [0]},\n",
       " {B_J_mass: [5.74, 2.81], B_Z_TriggerPath: [0, 0]},\n",
       " {B_J_mass: [2.96], B_Z_TriggerPath: [0]},\n",
       " ...,\n",
       " {B_J_mass: [4.91], B_Z_TriggerPath: [0]},\n",
       " {B_J_mass: [11.2], B_Z_TriggerPath: [0]},\n",
       " {B_J_mass: [7.2], B_Z_TriggerPath: [0]},\n",
       " {B_J_mass: [9.07, 9.07, 5.03, 5.03], B_Z_TriggerPath: [0, ...]},\n",
       " {B_J_mass: [10.7], B_Z_TriggerPath: [0]},\n",
       " {B_J_mass: [9.06], B_Z_TriggerPath: [0]},\n",
       " {B_J_mass: [9.92], B_Z_TriggerPath: [0]},\n",
       " {B_J_mass: [3.36], B_Z_TriggerPath: [1]},\n",
       " {B_J_mass: [3.86], B_Z_TriggerPath: [0]}]\n",
       "-----------------------------------------------------------------\n",
       "type: 18379 * {\n",
       "    B_J_mass: var * float32,\n",
       "    B_Z_TriggerPath: var * float32\n",
       "}</pre>"
      ],
      "text/plain": [
       "<Array [{B_J_mass: [4.33], ...}, ..., {...}] type='18379 * {B_J_mass: var *...'>"
      ]
     },
     "execution_count": 8,
     "metadata": {},
     "output_type": "execute_result"
    }
   ],
   "source": [
    "branches"
   ]
  },
  {
   "cell_type": "code",
   "execution_count": 10,
   "metadata": {},
   "outputs": [],
   "source": [
    "def print_summary(data, text):\n",
    "    events = len(data)\n",
    "    candidates = np.sum(ak.num(branches['B_J_mass'], axis=1))\n",
    "\n",
    "    print(f\"Number of candidates {text}: {candidates}\")\n",
    "    print(f\"Number of events {text}: {events}\")"
   ]
  },
  {
   "cell_type": "code",
   "execution_count": 11,
   "metadata": {},
   "outputs": [
    {
     "name": "stdout",
     "output_type": "stream",
     "text": [
      "Number of candidates Preselection: 25310\n",
      "Number of events Preselection: 18379\n"
     ]
    }
   ],
   "source": [
    "print_summary(branches, 'Preselection')"
   ]
  },
  {
   "cell_type": "code",
   "execution_count": 19,
   "metadata": {},
   "outputs": [
    {
     "name": "stdout",
     "output_type": "stream",
     "text": [
      "Number of candidates Trigger: 4961\n",
      "Number of events Trigger: 4122\n"
     ]
    }
   ],
   "source": [
    "cut_MuTrigger_candi = branches['B_Z_TriggerPath']\n",
    "cut_MuTrigger_event = ak.any(cut_MuTrigger_candi, axis=1)\n",
    "\n",
    "branches = branches[cut_MuTrigger_event]\n",
    "# branches = branches[cut_MuTrigger_candi][cut_MuTrigger_event]\n",
    "\n",
    "print_summary(branches, \"Trigger\")"
   ]
  },
  {
   "cell_type": "code",
   "execution_count": 18,
   "metadata": {},
   "outputs": [
    {
     "ename": "TypeError",
     "evalue": "only integers, slices (`:`), ellipsis (`...`), np.newaxis (`None`), integer/boolean arrays (possibly with variable-length nested lists or missing values), field name (str) or names (non-tuple iterable of str) are valid indices for slicing, not\n\n    <NumpyArray dtype='float32' len='25310'>[0. 1. 0. ... 0. 1. 0.]</NumpyArray>\n\nThis error occurred while attempting to slice\n\n    <Array [{B_J_mass: [4.33], ...}, ..., {...}] type='18379 * {B_J_mass: v...'>\n\nwith\n\n    <Array [[0], [1], [0], [...], ..., [0], [1], [0]] type='18379 * var * float32'>",
     "output_type": "error",
     "traceback": [
      "\u001b[0;31m---------------------------------------------------------------------------\u001b[0m",
      "\u001b[0;31mTypeError\u001b[0m                                 Traceback (most recent call last)",
      "File \u001b[0;32m~/nobackup/miniconda3/envs/work/lib/python3.9/site-packages/awkward/highlevel.py:948\u001b[0m, in \u001b[0;36mArray.__getitem__\u001b[0;34m(self, where)\u001b[0m\n\u001b[1;32m    947\u001b[0m \u001b[38;5;28;01mwith\u001b[39;00m ak\u001b[38;5;241m.\u001b[39m_errors\u001b[38;5;241m.\u001b[39mSlicingErrorContext(\u001b[38;5;28mself\u001b[39m, where):\n\u001b[0;32m--> 948\u001b[0m     out \u001b[38;5;241m=\u001b[39m \u001b[38;5;28;43mself\u001b[39;49m\u001b[38;5;241;43m.\u001b[39;49m\u001b[43m_layout\u001b[49m\u001b[43m[\u001b[49m\u001b[43mwhere\u001b[49m\u001b[43m]\u001b[49m\n\u001b[1;32m    949\u001b[0m     \u001b[38;5;28;01mif\u001b[39;00m \u001b[38;5;28misinstance\u001b[39m(out, ak\u001b[38;5;241m.\u001b[39mcontents\u001b[38;5;241m.\u001b[39mNumpyArray):\n",
      "File \u001b[0;32m~/nobackup/miniconda3/envs/work/lib/python3.9/site-packages/awkward/contents/content.py:536\u001b[0m, in \u001b[0;36mContent.__getitem__\u001b[0;34m(self, where)\u001b[0m\n\u001b[1;32m    535\u001b[0m \u001b[38;5;28;01mdef\u001b[39;00m \u001b[38;5;21m__getitem__\u001b[39m(\u001b[38;5;28mself\u001b[39m, where):\n\u001b[0;32m--> 536\u001b[0m     \u001b[38;5;28;01mreturn\u001b[39;00m \u001b[38;5;28;43mself\u001b[39;49m\u001b[38;5;241;43m.\u001b[39;49m\u001b[43m_getitem\u001b[49m\u001b[43m(\u001b[49m\u001b[43mwhere\u001b[49m\u001b[43m)\u001b[49m\n",
      "File \u001b[0;32m~/nobackup/miniconda3/envs/work/lib/python3.9/site-packages/awkward/contents/content.py:589\u001b[0m, in \u001b[0;36mContent._getitem\u001b[0;34m(self, where)\u001b[0m\n\u001b[1;32m    588\u001b[0m \u001b[38;5;28;01melif\u001b[39;00m \u001b[38;5;28misinstance\u001b[39m(where, ak\u001b[38;5;241m.\u001b[39mhighlevel\u001b[38;5;241m.\u001b[39mArray):\n\u001b[0;32m--> 589\u001b[0m     \u001b[38;5;28;01mreturn\u001b[39;00m \u001b[38;5;28;43mself\u001b[39;49m\u001b[38;5;241;43m.\u001b[39;49m\u001b[43m_getitem\u001b[49m\u001b[43m(\u001b[49m\u001b[43mwhere\u001b[49m\u001b[38;5;241;43m.\u001b[39;49m\u001b[43mlayout\u001b[49m\u001b[43m)\u001b[49m\n\u001b[1;32m    591\u001b[0m \u001b[38;5;66;03m# Convert between nplikes of different backends\u001b[39;00m\n",
      "File \u001b[0;32m~/nobackup/miniconda3/envs/work/lib/python3.9/site-packages/awkward/contents/content.py:664\u001b[0m, in \u001b[0;36mContent._getitem\u001b[0;34m(self, where)\u001b[0m\n\u001b[1;32m    663\u001b[0m \u001b[38;5;28;01melif\u001b[39;00m \u001b[38;5;28misinstance\u001b[39m(where, Content):\n\u001b[0;32m--> 664\u001b[0m     \u001b[38;5;28;01mreturn\u001b[39;00m \u001b[38;5;28;43mself\u001b[39;49m\u001b[38;5;241;43m.\u001b[39;49m\u001b[43m_getitem\u001b[49m\u001b[43m(\u001b[49m\u001b[43m(\u001b[49m\u001b[43mwhere\u001b[49m\u001b[43m,\u001b[49m\u001b[43m)\u001b[49m\u001b[43m)\u001b[49m\n\u001b[1;32m    666\u001b[0m \u001b[38;5;28;01melif\u001b[39;00m is_sized_iterable(where):\n\u001b[1;32m    667\u001b[0m     \u001b[38;5;66;03m# Do we have an array\u001b[39;00m\n",
      "File \u001b[0;32m~/nobackup/miniconda3/envs/work/lib/python3.9/site-packages/awkward/contents/content.py:570\u001b[0m, in \u001b[0;36mContent._getitem\u001b[0;34m(self, where)\u001b[0m\n\u001b[1;32m    569\u001b[0m \u001b[38;5;66;03m# Normalise valid indices onto well-defined basis\u001b[39;00m\n\u001b[0;32m--> 570\u001b[0m items \u001b[38;5;241m=\u001b[39m \u001b[43mak\u001b[49m\u001b[38;5;241;43m.\u001b[39;49m\u001b[43m_slicing\u001b[49m\u001b[38;5;241;43m.\u001b[39;49m\u001b[43mnormalise_items\u001b[49m\u001b[43m(\u001b[49m\u001b[43mwhere\u001b[49m\u001b[43m,\u001b[49m\u001b[43m \u001b[49m\u001b[43mbackend\u001b[49m\u001b[43m)\u001b[49m\n\u001b[1;32m    571\u001b[0m \u001b[38;5;66;03m# Prepare items for advanced indexing (e.g. via broadcasting)\u001b[39;00m\n",
      "File \u001b[0;32m~/nobackup/miniconda3/envs/work/lib/python3.9/site-packages/awkward/_slicing.py:320\u001b[0m, in \u001b[0;36mnormalise_items\u001b[0;34m(where, backend)\u001b[0m\n\u001b[1;32m    318\u001b[0m \u001b[38;5;28;01mdef\u001b[39;00m \u001b[38;5;21mnormalise_items\u001b[39m(where: Sequence, backend: Backend) \u001b[38;5;241m-\u001b[39m\u001b[38;5;241m>\u001b[39m \u001b[38;5;28mlist\u001b[39m:\n\u001b[1;32m    319\u001b[0m     \u001b[38;5;66;03m# First prepare items for broadcasting into like-types\u001b[39;00m\n\u001b[0;32m--> 320\u001b[0m     \u001b[38;5;28;01mreturn\u001b[39;00m [normalise_item(x, backend\u001b[38;5;241m=\u001b[39mbackend) \u001b[38;5;28;01mfor\u001b[39;00m x \u001b[38;5;129;01min\u001b[39;00m where]\n",
      "File \u001b[0;32m~/nobackup/miniconda3/envs/work/lib/python3.9/site-packages/awkward/_slicing.py:320\u001b[0m, in \u001b[0;36m<listcomp>\u001b[0;34m(.0)\u001b[0m\n\u001b[1;32m    318\u001b[0m \u001b[38;5;28;01mdef\u001b[39;00m \u001b[38;5;21mnormalise_items\u001b[39m(where: Sequence, backend: Backend) \u001b[38;5;241m-\u001b[39m\u001b[38;5;241m>\u001b[39m \u001b[38;5;28mlist\u001b[39m:\n\u001b[1;32m    319\u001b[0m     \u001b[38;5;66;03m# First prepare items for broadcasting into like-types\u001b[39;00m\n\u001b[0;32m--> 320\u001b[0m     \u001b[38;5;28;01mreturn\u001b[39;00m [\u001b[43mnormalise_item\u001b[49m\u001b[43m(\u001b[49m\u001b[43mx\u001b[49m\u001b[43m,\u001b[49m\u001b[43m \u001b[49m\u001b[43mbackend\u001b[49m\u001b[38;5;241;43m=\u001b[39;49m\u001b[43mbackend\u001b[49m\u001b[43m)\u001b[49m \u001b[38;5;28;01mfor\u001b[39;00m x \u001b[38;5;129;01min\u001b[39;00m where]\n",
      "File \u001b[0;32m~/nobackup/miniconda3/envs/work/lib/python3.9/site-packages/awkward/_slicing.py:269\u001b[0m, in \u001b[0;36mnormalise_item\u001b[0;34m(item, backend)\u001b[0m\n\u001b[1;32m    268\u001b[0m \u001b[38;5;28;01melif\u001b[39;00m \u001b[38;5;28misinstance\u001b[39m(item, ak\u001b[38;5;241m.\u001b[39mcontents\u001b[38;5;241m.\u001b[39mContent):\n\u001b[0;32m--> 269\u001b[0m     out \u001b[38;5;241m=\u001b[39m _normalise_item_bool_to_int(\u001b[43m_normalise_item_nested\u001b[49m\u001b[43m(\u001b[49m\u001b[43mitem\u001b[49m\u001b[43m)\u001b[49m, backend)\n\u001b[1;32m    270\u001b[0m     \u001b[38;5;28;01massert\u001b[39;00m out\u001b[38;5;241m.\u001b[39mbackend \u001b[38;5;129;01mis\u001b[39;00m backend\n",
      "File \u001b[0;32m~/nobackup/miniconda3/envs/work/lib/python3.9/site-packages/awkward/_slicing.py:367\u001b[0m, in \u001b[0;36m_normalise_item_nested\u001b[0;34m(item)\u001b[0m\n\u001b[1;32m    361\u001b[0m \u001b[38;5;28;01melif\u001b[39;00m \u001b[38;5;28misinstance\u001b[39m(\n\u001b[1;32m    362\u001b[0m     item,\n\u001b[1;32m    363\u001b[0m     ak\u001b[38;5;241m.\u001b[39mcontents\u001b[38;5;241m.\u001b[39mListOffsetArray,\n\u001b[1;32m    364\u001b[0m ) \u001b[38;5;129;01mand\u001b[39;00m \u001b[38;5;28missubclass\u001b[39m(item\u001b[38;5;241m.\u001b[39moffsets\u001b[38;5;241m.\u001b[39mdtype\u001b[38;5;241m.\u001b[39mtype, np\u001b[38;5;241m.\u001b[39mint64):\n\u001b[1;32m    365\u001b[0m     \u001b[38;5;28;01mreturn\u001b[39;00m ak\u001b[38;5;241m.\u001b[39mcontents\u001b[38;5;241m.\u001b[39mListOffsetArray(\n\u001b[1;32m    366\u001b[0m         item\u001b[38;5;241m.\u001b[39moffsets,\n\u001b[0;32m--> 367\u001b[0m         \u001b[43m_normalise_item_nested\u001b[49m\u001b[43m(\u001b[49m\u001b[43mitem\u001b[49m\u001b[38;5;241;43m.\u001b[39;49m\u001b[43mcontent\u001b[49m\u001b[43m)\u001b[49m,\n\u001b[1;32m    368\u001b[0m         parameters\u001b[38;5;241m=\u001b[39mitem\u001b[38;5;241m.\u001b[39mparameters,\n\u001b[1;32m    369\u001b[0m     )\n\u001b[1;32m    371\u001b[0m \u001b[38;5;28;01melif\u001b[39;00m \u001b[38;5;28misinstance\u001b[39m(\n\u001b[1;32m    372\u001b[0m     item,\n\u001b[1;32m    373\u001b[0m     (\n\u001b[0;32m   (...)\u001b[0m\n\u001b[1;32m    377\u001b[0m     ),\n\u001b[1;32m    378\u001b[0m ):\n",
      "File \u001b[0;32m~/nobackup/miniconda3/envs/work/lib/python3.9/site-packages/awkward/_slicing.py:469\u001b[0m, in \u001b[0;36m_normalise_item_nested\u001b[0;34m(item)\u001b[0m\n\u001b[1;32m    468\u001b[0m \u001b[38;5;28;01melse\u001b[39;00m:\n\u001b[0;32m--> 469\u001b[0m     \u001b[38;5;28;01mraise\u001b[39;00m \u001b[38;5;167;01mTypeError\u001b[39;00m(\n\u001b[1;32m    470\u001b[0m         \u001b[38;5;124m\"\u001b[39m\u001b[38;5;124monly integers, slices (`:`), ellipsis (`...`), np.newaxis (`None`), \u001b[39m\u001b[38;5;124m\"\u001b[39m\n\u001b[1;32m    471\u001b[0m         \u001b[38;5;124m\"\u001b[39m\u001b[38;5;124minteger/boolean arrays (possibly with variable-length nested \u001b[39m\u001b[38;5;124m\"\u001b[39m\n\u001b[1;32m    472\u001b[0m         \u001b[38;5;124m\"\u001b[39m\u001b[38;5;124mlists or missing values), field name (str) or names (non-tuple \u001b[39m\u001b[38;5;124m\"\u001b[39m\n\u001b[1;32m    473\u001b[0m         \u001b[38;5;124m\"\u001b[39m\u001b[38;5;124miterable of str) are valid indices for slicing, not\u001b[39m\u001b[38;5;130;01m\\n\u001b[39;00m\u001b[38;5;130;01m\\n\u001b[39;00m\u001b[38;5;124m    \u001b[39m\u001b[38;5;124m\"\u001b[39m\n\u001b[1;32m    474\u001b[0m         \u001b[38;5;241m+\u001b[39m \u001b[38;5;28mrepr\u001b[39m(item)\u001b[38;5;241m.\u001b[39mreplace(\u001b[38;5;124m\"\u001b[39m\u001b[38;5;130;01m\\n\u001b[39;00m\u001b[38;5;124m\"\u001b[39m, \u001b[38;5;124m\"\u001b[39m\u001b[38;5;130;01m\\n\u001b[39;00m\u001b[38;5;124m    \u001b[39m\u001b[38;5;124m\"\u001b[39m)\n\u001b[1;32m    475\u001b[0m     )\n",
      "\u001b[0;31mTypeError\u001b[0m: only integers, slices (`:`), ellipsis (`...`), np.newaxis (`None`), integer/boolean arrays (possibly with variable-length nested lists or missing values), field name (str) or names (non-tuple iterable of str) are valid indices for slicing, not\n\n    <NumpyArray dtype='float32' len='25310'>[0. 1. 0. ... 0. 1. 0.]</NumpyArray>",
      "\nThe above exception was the direct cause of the following exception:\n",
      "\u001b[0;31mTypeError\u001b[0m                                 Traceback (most recent call last)",
      "Cell \u001b[0;32mIn[18], line 1\u001b[0m\n\u001b[0;32m----> 1\u001b[0m \u001b[43mbranches\u001b[49m\u001b[43m[\u001b[49m\u001b[43mcut_MuTrigger_candi\u001b[49m\u001b[43m]\u001b[49m\n",
      "File \u001b[0;32m~/nobackup/miniconda3/envs/work/lib/python3.9/site-packages/awkward/highlevel.py:960\u001b[0m, in \u001b[0;36mArray.__getitem__\u001b[0;34m(self, where)\u001b[0m\n\u001b[1;32m    958\u001b[0m         \u001b[38;5;28;01mreturn\u001b[39;00m wrap_layout(out, \u001b[38;5;28mself\u001b[39m\u001b[38;5;241m.\u001b[39m_behavior)\n\u001b[1;32m    959\u001b[0m \u001b[38;5;28;01melse\u001b[39;00m:\n\u001b[0;32m--> 960\u001b[0m     \u001b[38;5;28;01mreturn\u001b[39;00m wrap_layout(out, \u001b[38;5;28mself\u001b[39m\u001b[38;5;241m.\u001b[39m_behavior, allow_other\u001b[38;5;241m=\u001b[39m\u001b[38;5;28;01mTrue\u001b[39;00m)\n",
      "File \u001b[0;32m~/nobackup/miniconda3/envs/work/lib/python3.9/site-packages/awkward/_errors.py:56\u001b[0m, in \u001b[0;36mErrorContext.__exit__\u001b[0;34m(self, exception_type, exception_value, traceback)\u001b[0m\n\u001b[1;32m     53\u001b[0m \u001b[38;5;28;01mtry\u001b[39;00m:\n\u001b[1;32m     54\u001b[0m     \u001b[38;5;66;03m# Handle caught exception\u001b[39;00m\n\u001b[1;32m     55\u001b[0m     \u001b[38;5;28;01mif\u001b[39;00m exception_type \u001b[38;5;129;01mis\u001b[39;00m \u001b[38;5;129;01mnot\u001b[39;00m \u001b[38;5;28;01mNone\u001b[39;00m \u001b[38;5;129;01mand\u001b[39;00m \u001b[38;5;28mself\u001b[39m\u001b[38;5;241m.\u001b[39mprimary() \u001b[38;5;129;01mis\u001b[39;00m \u001b[38;5;28mself\u001b[39m:\n\u001b[0;32m---> 56\u001b[0m         \u001b[38;5;28;43mself\u001b[39;49m\u001b[38;5;241;43m.\u001b[39;49m\u001b[43mhandle_exception\u001b[49m\u001b[43m(\u001b[49m\u001b[43mexception_type\u001b[49m\u001b[43m,\u001b[49m\u001b[43m \u001b[49m\u001b[43mexception_value\u001b[49m\u001b[43m)\u001b[49m\n\u001b[1;32m     57\u001b[0m \u001b[38;5;28;01mfinally\u001b[39;00m:\n\u001b[1;32m     58\u001b[0m     \u001b[38;5;66;03m# `_kwargs` may hold cyclic references, that we really want to avoid\u001b[39;00m\n\u001b[1;32m     59\u001b[0m     \u001b[38;5;66;03m# as this can lead to large buffers remaining in memory for longer than absolutely necessary\u001b[39;00m\n\u001b[1;32m     60\u001b[0m     \u001b[38;5;66;03m# Let's just clear this, now.\u001b[39;00m\n\u001b[1;32m     61\u001b[0m     \u001b[38;5;28mself\u001b[39m\u001b[38;5;241m.\u001b[39m_kwargs\u001b[38;5;241m.\u001b[39mclear()\n",
      "File \u001b[0;32m~/nobackup/miniconda3/envs/work/lib/python3.9/site-packages/awkward/_errors.py:71\u001b[0m, in \u001b[0;36mErrorContext.handle_exception\u001b[0;34m(self, cls, exception)\u001b[0m\n\u001b[1;32m     69\u001b[0m     \u001b[38;5;28mself\u001b[39m\u001b[38;5;241m.\u001b[39mdecorate_exception(\u001b[38;5;28mcls\u001b[39m, exception)\n\u001b[1;32m     70\u001b[0m \u001b[38;5;28;01melse\u001b[39;00m:\n\u001b[0;32m---> 71\u001b[0m     \u001b[38;5;28;01mraise\u001b[39;00m \u001b[38;5;28mself\u001b[39m\u001b[38;5;241m.\u001b[39mdecorate_exception(\u001b[38;5;28mcls\u001b[39m, exception)\n",
      "\u001b[0;31mTypeError\u001b[0m: only integers, slices (`:`), ellipsis (`...`), np.newaxis (`None`), integer/boolean arrays (possibly with variable-length nested lists or missing values), field name (str) or names (non-tuple iterable of str) are valid indices for slicing, not\n\n    <NumpyArray dtype='float32' len='25310'>[0. 1. 0. ... 0. 1. 0.]</NumpyArray>\n\nThis error occurred while attempting to slice\n\n    <Array [{B_J_mass: [4.33], ...}, ..., {...}] type='18379 * {B_J_mass: v...'>\n\nwith\n\n    <Array [[0], [1], [0], [...], ..., [0], [1], [0]] type='18379 * var * float32'>"
     ]
    }
   ],
   "source": [
    "branches[cut_MuTrigger_candi]"
   ]
  },
  {
   "cell_type": "code",
   "execution_count": 16,
   "metadata": {},
   "outputs": [
    {
     "data": {
      "text/html": [
       "<pre>[[0],\n",
       " [1],\n",
       " [0],\n",
       " [1, 1],\n",
       " [1, 1],\n",
       " [0],\n",
       " [1, 1],\n",
       " [0],\n",
       " [0, 0],\n",
       " [0],\n",
       " ...,\n",
       " [0],\n",
       " [0],\n",
       " [0],\n",
       " [0, 0, 0, 0],\n",
       " [0],\n",
       " [0],\n",
       " [0],\n",
       " [1],\n",
       " [0]]\n",
       "---------------------------\n",
       "type: 18379 * var * float32</pre>"
      ],
      "text/plain": [
       "<Array [[0], [1], [0], [...], ..., [0], [1], [0]] type='18379 * var * float32'>"
      ]
     },
     "execution_count": 16,
     "metadata": {},
     "output_type": "execute_result"
    }
   ],
   "source": [
    "cut_MuTrigger_candi"
   ]
  },
  {
   "cell_type": "code",
   "execution_count": 17,
   "metadata": {},
   "outputs": [
    {
     "data": {
      "text/html": [
       "<pre>[{B_J_mass: [4.33], B_Z_TriggerPath: [0]},\n",
       " {B_J_mass: [3.08], B_Z_TriggerPath: [1]},\n",
       " {B_J_mass: [5.62], B_Z_TriggerPath: [0]},\n",
       " {B_J_mass: [9.83, 7.68], B_Z_TriggerPath: [1, 1]},\n",
       " {B_J_mass: [10.4, 10.4], B_Z_TriggerPath: [1, 1]},\n",
       " {B_J_mass: [12], B_Z_TriggerPath: [0]},\n",
       " {B_J_mass: [10.7, 4.52], B_Z_TriggerPath: [1, 1]},\n",
       " {B_J_mass: [6.6], B_Z_TriggerPath: [0]},\n",
       " {B_J_mass: [5.74, 2.81], B_Z_TriggerPath: [0, 0]},\n",
       " {B_J_mass: [2.96], B_Z_TriggerPath: [0]},\n",
       " ...,\n",
       " {B_J_mass: [4.91], B_Z_TriggerPath: [0]},\n",
       " {B_J_mass: [11.2], B_Z_TriggerPath: [0]},\n",
       " {B_J_mass: [7.2], B_Z_TriggerPath: [0]},\n",
       " {B_J_mass: [9.07, 9.07, 5.03, 5.03], B_Z_TriggerPath: [0, ...]},\n",
       " {B_J_mass: [10.7], B_Z_TriggerPath: [0]},\n",
       " {B_J_mass: [9.06], B_Z_TriggerPath: [0]},\n",
       " {B_J_mass: [9.92], B_Z_TriggerPath: [0]},\n",
       " {B_J_mass: [3.36], B_Z_TriggerPath: [1]},\n",
       " {B_J_mass: [3.86], B_Z_TriggerPath: [0]}]\n",
       "-----------------------------------------------------------------\n",
       "type: 18379 * {\n",
       "    B_J_mass: var * float32,\n",
       "    B_Z_TriggerPath: var * float32\n",
       "}</pre>"
      ],
      "text/plain": [
       "<Array [{B_J_mass: [4.33], ...}, ..., {...}] type='18379 * {B_J_mass: var *...'>"
      ]
     },
     "execution_count": 17,
     "metadata": {},
     "output_type": "execute_result"
    }
   ],
   "source": [
    "branches"
   ]
  }
 ],
 "metadata": {
  "kernelspec": {
   "display_name": "work",
   "language": "python",
   "name": "python3"
  },
  "language_info": {
   "codemirror_mode": {
    "name": "ipython",
    "version": 3
   },
   "file_extension": ".py",
   "mimetype": "text/x-python",
   "name": "python",
   "nbconvert_exporter": "python",
   "pygments_lexer": "ipython3",
   "version": "3.9.undefined"
  }
 },
 "nbformat": 4,
 "nbformat_minor": 2
}
