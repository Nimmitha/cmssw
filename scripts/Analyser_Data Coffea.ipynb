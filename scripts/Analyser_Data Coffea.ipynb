{
 "cells": [
  {
   "cell_type": "code",
   "execution_count": 1,
   "metadata": {},
   "outputs": [],
   "source": [
    "from coffea.nanoevents import TreeMakerSchema, BaseSchema, NanoEventsFactory\n",
    "import uproot as up\n",
    "import pandas as pd\n",
    "import numpy as np\n",
    "import awkward as ak\n",
    "import mplhep as hep\n",
    "hep.style.use(hep.style.CMS)\n",
    "import matplotlib.pyplot as plt\n",
    "\n",
    "from helpers import get_summary_table"
   ]
  },
  {
   "cell_type": "code",
   "execution_count": 2,
   "metadata": {},
   "outputs": [],
   "source": [
    "fname = '../output/ZmmYee/Data/crab_TTree_13TeV_fourmuon_2018BCD_v6.root'"
   ]
  },
  {
   "cell_type": "code",
   "execution_count": 3,
   "metadata": {},
   "outputs": [],
   "source": [
    "events = NanoEventsFactory.from_root({fname: \"ntuple\"},\n",
    "     schemaclass=BaseSchema,\n",
    "     entry_stop=100,\n",
    ").events()"
   ]
  },
  {
   "cell_type": "code",
   "execution_count": 4,
   "metadata": {},
   "outputs": [],
   "source": [
    "columns = ['Event', 'Run', 'LumiBlock',\n",
    "           'Mu_TriggerPath',\n",
    "           'Z_soft1', 'Z_soft2',\n",
    "           'Z_Vtx_Mass', 'Z_mass',\n",
    "           'Z_pt1', 'Z_pt2', 'Z_eta1', 'Z_eta2',\n",
    "           'Z_lowPt', 'Z_highPt',\n",
    "           'Y_Vtx_Mass', 'Y_mass',\n",
    "           'Y_pt1', 'Y_pt2', 'Y_eta1', 'Y_eta2',\n",
    "           'Y_mvaIsoWP90_1', 'Y_mvaIsoWP90_2',\n",
    "           'Z_Vtx_Prob', 'Y_Vtx_Prob',\n",
    "           'FourL_mass', 'FourL_Vtx_Prob',\n",
    "           'Y_lowPt', 'Y_highPt']\n",
    "\n",
    "events = events[columns]"
   ]
  },
  {
   "cell_type": "code",
   "execution_count": 5,
   "metadata": {},
   "outputs": [],
   "source": [
    "events = events.compute()"
   ]
  },
  {
   "cell_type": "code",
   "execution_count": 41,
   "metadata": {},
   "outputs": [],
   "source": [
    "cut_fake = (events.Y_mass > -1)\n",
    "\n",
    "cut_unOrdered_Z = events.Z_pt1 > events.Z_pt2\n",
    "cut_unOrdered_Y = events.Y_pt1 > events.Y_pt2\n",
    "cut_unOrdered = cut_unOrdered_Z & cut_unOrdered_Y\n",
    "\n",
    "cut_MuTrigger = events.Mu_TriggerPath\n",
    "cut_Zsoft = events.Z_soft1 & events.Z_soft2\n",
    "cut_highPt24 = events.Z_highPt > 24\n",
    "cut_dilepton_prob = (events.Y_Vtx_Prob > 0.01) & (events.Z_Vtx_Prob > 0.01)\n",
    "cut_FourL_prob = events.FourL_Vtx_Prob > 0.01\n",
    "\n",
    "cut_Pt = (events.Z_pt1 > 3.0) & (events.Z_pt2 > 3.0) & (events.Y_pt1 > 5.0) & (events.Y_pt2 > 5.0)\n",
    "cut_eta = (abs(events.Z_eta1) < 2.4) & (abs(events.Z_eta2) < 2.4) & (abs(events.Y_eta1) < 2.5) & (abs(events.Y_eta2) < 2.5)\n",
    "cut_detector = cut_Pt & cut_eta\n",
    "\n",
    "cut_Ymass = (events.Y_mass > 8) & (events.Y_mass < 10)\n",
    "cut_Zmass = (events.Z_mass > 70) & (events.Z_mass < 110)\n",
    "\n",
    "cut_YmvaIsoHighpT = events.Y_mvaIsoWP90_1\n",
    "cut_YmvaIsoLowpT = events.Y_mvaIsoWP90_2\n",
    "cut_YmvaIsoBoth = (events.Y_mvaIsoWP90_1) & (events.Y_mvaIsoWP90_2)\n",
    "\n",
    "cut_FourLmass = (events.FourL_mass > 112) & (events.FourL_mass < 162)"
   ]
  },
  {
   "cell_type": "code",
   "execution_count": 42,
   "metadata": {},
   "outputs": [],
   "source": [
    "primary_cuts = {\n",
    "    \"Preselection\": cut_fake,\n",
    "    \"UnOrdered pT\": cut_unOrdered,\n",
    "    \"Muon Trigger\": cut_MuTrigger,\n",
    "    \"Soft Muons\": cut_Zsoft,\n",
    "    \"High pT Muon > 24 GeV\": cut_highPt24,\n",
    "    \"Dilepton Vtx > 1%\": cut_dilepton_prob,\n",
    "    \"FourL Vtx > 1%\": cut_FourL_prob,\n",
    "    \"Detector acceptance\": cut_detector,\n",
    "}\n",
    "\n",
    "mass_cuts = {\n",
    "    \"Y mass\": cut_Ymass,\n",
    "    \"Z mass\": cut_Zmass,\n",
    "}\n",
    "\n",
    "electronID_cuts = {\n",
    "    \"High pT\": cut_YmvaIsoHighpT,\n",
    "    \"Low pT\": cut_YmvaIsoLowpT,\n",
    "    \"Both\": cut_YmvaIsoBoth,\n",
    "}\n",
    "\n",
    "fourL_mass_cuts = {\n",
    "    \"FourL mass\": cut_FourLmass,\n",
    "}"
   ]
  },
  {
   "cell_type": "markdown",
   "metadata": {},
   "source": [
    "## Make a cut table"
   ]
  },
  {
   "cell_type": "markdown",
   "metadata": {},
   "source": []
  },
  {
   "cell_type": "code",
   "execution_count": 8,
   "metadata": {},
   "outputs": [
    {
     "name": "stdout",
     "output_type": "stream",
     "text": [
      "11\n",
      "11\n",
      "11\n",
      "11\n"
     ]
    },
    {
     "data": {
      "text/html": [
       "<div>\n",
       "<style scoped>\n",
       "    .dataframe tbody tr th:only-of-type {\n",
       "        vertical-align: middle;\n",
       "    }\n",
       "\n",
       "    .dataframe tbody tr th {\n",
       "        vertical-align: top;\n",
       "    }\n",
       "\n",
       "    .dataframe thead th {\n",
       "        text-align: right;\n",
       "    }\n",
       "</style>\n",
       "<table border=\"1\" class=\"dataframe\">\n",
       "  <thead>\n",
       "    <tr style=\"text-align: right;\">\n",
       "      <th></th>\n",
       "      <th>Cuts</th>\n",
       "      <th>Candidates</th>\n",
       "      <th>Events</th>\n",
       "    </tr>\n",
       "  </thead>\n",
       "  <tbody>\n",
       "    <tr>\n",
       "      <th>0</th>\n",
       "      <td>Preselection</td>\n",
       "      <td>196969</td>\n",
       "      <td>148779</td>\n",
       "    </tr>\n",
       "    <tr>\n",
       "      <th>1</th>\n",
       "      <td>UnOrdered pT</td>\n",
       "      <td>196940</td>\n",
       "      <td>148765</td>\n",
       "    </tr>\n",
       "    <tr>\n",
       "      <th>2</th>\n",
       "      <td>Muon Trigger</td>\n",
       "      <td>97607</td>\n",
       "      <td>83870</td>\n",
       "    </tr>\n",
       "    <tr>\n",
       "      <th>3</th>\n",
       "      <td>Soft Muons</td>\n",
       "      <td>78618</td>\n",
       "      <td>71000</td>\n",
       "    </tr>\n",
       "    <tr>\n",
       "      <th>4</th>\n",
       "      <td>High pT Muon &gt; 24 GeV</td>\n",
       "      <td>78482</td>\n",
       "      <td>70919</td>\n",
       "    </tr>\n",
       "    <tr>\n",
       "      <th>5</th>\n",
       "      <td>Dilepton Vtx &gt; 1%</td>\n",
       "      <td>69379</td>\n",
       "      <td>62939</td>\n",
       "    </tr>\n",
       "    <tr>\n",
       "      <th>6</th>\n",
       "      <td>FourL Vtx &gt; 1%</td>\n",
       "      <td>62762</td>\n",
       "      <td>57088</td>\n",
       "    </tr>\n",
       "    <tr>\n",
       "      <th>7</th>\n",
       "      <td>Detector acceptance</td>\n",
       "      <td>10491</td>\n",
       "      <td>9777</td>\n",
       "    </tr>\n",
       "    <tr>\n",
       "      <th>8</th>\n",
       "      <td>Y mass</td>\n",
       "      <td>1853</td>\n",
       "      <td>1780</td>\n",
       "    </tr>\n",
       "    <tr>\n",
       "      <th>9</th>\n",
       "      <td>Z mass</td>\n",
       "      <td>1419</td>\n",
       "      <td>1395</td>\n",
       "    </tr>\n",
       "    <tr>\n",
       "      <th>10</th>\n",
       "      <td>[High pT, Low pT, Both]</td>\n",
       "      <td>[40, 56, 18]</td>\n",
       "      <td>[39, 55, 18]</td>\n",
       "    </tr>\n",
       "  </tbody>\n",
       "</table>\n",
       "</div>"
      ],
      "text/plain": [
       "                       Cuts    Candidates        Events\n",
       "0              Preselection        196969        148779\n",
       "1              UnOrdered pT        196940        148765\n",
       "2              Muon Trigger         97607         83870\n",
       "3                Soft Muons         78618         71000\n",
       "4     High pT Muon > 24 GeV         78482         70919\n",
       "5         Dilepton Vtx > 1%         69379         62939\n",
       "6            FourL Vtx > 1%         62762         57088\n",
       "7       Detector acceptance         10491          9777\n",
       "8                    Y mass          1853          1780\n",
       "9                    Z mass          1419          1395\n",
       "10  [High pT, Low pT, Both]  [40, 56, 18]  [39, 55, 18]"
      ]
     },
     "execution_count": 8,
     "metadata": {},
     "output_type": "execute_result"
    }
   ],
   "source": [
    "table, aggMask_list = get_summary_table(events, primary_cuts, mass_cuts, electronID_cuts, fourL_mass_cuts)\n",
    "table"
   ]
  },
  {
   "cell_type": "markdown",
   "metadata": {},
   "source": [
    "## Make plots for each step"
   ]
  },
  {
   "cell_type": "markdown",
   "metadata": {},
   "source": [
    "### Preselection"
   ]
  },
  {
   "cell_type": "code",
   "execution_count": 45,
   "metadata": {},
   "outputs": [],
   "source": [
    "plot_fields = [\"Z_Vtx_Mass\", \"Z_mass\", \"Z_pt1\", \"Z_pt2\", \"Z_eta1\", \"Z_eta2\", \"Y_Vtx_Mass\", \"Y_mass\", \"Y_pt1\", \"Y_pt2\", \"Y_eta1\", \"Y_eta2\", \"Z_Vtx_Prob\", \"Y_Vtx_Prob\", \"FourL_mass\", \"FourL_Vtx_Prob\"]"
   ]
  },
  {
   "cell_type": "code",
   "execution_count": 54,
   "metadata": {},
   "outputs": [
    {
     "data": {
      "text/plain": [
       "(array([2200., 1799., 1414., 1262., 1146., 1089., 1032.,  983.,  933.,\n",
       "         902.,  859.,  784.,  861.,  804.,  741.,  717.,  765.,  745.,\n",
       "         717.,  700.,  672.,  709.,  700.,  697.,  657.,  656.,  684.,\n",
       "         654.,  629.,  643.,  679.,  596.,  649.,  647.,  602.,  639.,\n",
       "         637.,  630.,  649.,  632.,  667.,  628.,  632.,  622.,  652.,\n",
       "         607.,  653.,  633.,  630.,  605.,  620.,  653.,  530.,  594.,\n",
       "         607.,  629.,  576.,  616.,  595.,  587.,  625.,  569.,  613.,\n",
       "         600.,  650.,  599.,  604.,  557.,  609.,  609.,  586.,  578.,\n",
       "         606.,  554.,  573.,  572.,  619.,  557.,  550.,  564.,  578.,\n",
       "         622.,  595.,  593.,  566.,  567.,  604.,  610.,  587.,  561.,\n",
       "         574.,  561.,  596.,  609.,  629.,  593.,  548.,  565.,  592.,\n",
       "         585.]),\n",
       " array([0.01000035, 0.01990031, 0.02980027, 0.03970023, 0.04960019,\n",
       "        0.05950015, 0.06940011, 0.07930007, 0.08920003, 0.09909999,\n",
       "        0.10899995, 0.11889991, 0.12879987, 0.13869983, 0.14859979,\n",
       "        0.15849975, 0.16839971, 0.17829967, 0.18819964, 0.1980996 ,\n",
       "        0.20799956, 0.21789952, 0.22779948, 0.23769943, 0.24759939,\n",
       "        0.25749937, 0.26739931, 0.27729928, 0.28719923, 0.2970992 ,\n",
       "        0.30699915, 0.31689912, 0.32679906, 0.33669904, 0.34659898,\n",
       "        0.35649896, 0.3663989 , 0.37629887, 0.38619885, 0.39609879,\n",
       "        0.40599877, 0.41589871, 0.42579868, 0.43569863, 0.4455986 ,\n",
       "        0.45549855, 0.46539852, 0.47529846, 0.48519844, 0.49509838,\n",
       "        0.50499839, 0.5148983 , 0.52479827, 0.53469825, 0.54459822,\n",
       "        0.55449814, 0.56439811, 0.57429808, 0.58419806, 0.59409797,\n",
       "        0.60399795, 0.61389792, 0.62379789, 0.63369787, 0.64359778,\n",
       "        0.65349776, 0.66339773, 0.6732977 , 0.68319762, 0.69309759,\n",
       "        0.70299757, 0.71289754, 0.72279745, 0.73269743, 0.7425974 ,\n",
       "        0.75249738, 0.76239735, 0.77229726, 0.78219724, 0.79209721,\n",
       "        0.80199718, 0.8118971 , 0.82179707, 0.83169705, 0.84159702,\n",
       "        0.85149693, 0.86139691, 0.87129688, 0.88119686, 0.89109683,\n",
       "        0.90099674, 0.91089672, 0.92079669, 0.93069667, 0.94059658,\n",
       "        0.95049655, 0.96039653, 0.9702965 , 0.98019642, 0.99009639,\n",
       "        0.99999636]),\n",
       " <BarContainer object of 100 artists>)"
      ]
     },
     "execution_count": 54,
     "metadata": {},
     "output_type": "execute_result"
    },
    {
     "data": {
      "image/png": "[encoded data removed]",
      "text/plain": [
       "<Figure size 1000x1000 with 1 Axes>"
      ]
     },
     "metadata": {},
     "output_type": "display_data"
    }
   ],
   "source": [
    "m = ak.flatten(events[aggMask_list[4]]['Y_Vtx_Prob'], axis=1)\n",
    "plt.hist(m, bins=100)\n",
    "m = ak.flatten(events[aggMask_list[5]]['Y_Vtx_Prob'], axis=1)\n",
    "plt.hist(m, bins=100)"
   ]
  },
  {
   "cell_type": "code",
   "execution_count": null,
   "metadata": {},
   "outputs": [],
   "source": [
    "variables = \n",
    "\n",
    "variables_str = ', '.join(variables)\n",
    "variables_str\n"
   ]
  },
  {
   "cell_type": "code",
   "execution_count": 43,
   "metadata": {},
   "outputs": [
    {
     "name": "stdout",
     "output_type": "stream",
     "text": [
      "Event\n",
      "Run\n",
      "LumiBlock\n",
      "Mu_TriggerPath\n",
      "Z_soft1\n",
      "Z_soft2\n",
      "Z_Vtx_Mass\n",
      "Z_mass\n",
      "Z_pt1\n",
      "Z_pt2\n",
      "Z_eta1\n",
      "Z_eta2\n",
      "Z_lowPt\n",
      "Z_highPt\n",
      "Y_Vtx_Mass\n",
      "Y_mass\n",
      "Y_pt1\n",
      "Y_pt2\n",
      "Y_eta1\n",
      "Y_eta2\n",
      "Y_mvaIsoWP90_1\n",
      "Y_mvaIsoWP90_2\n",
      "Z_Vtx_Prob\n",
      "Y_Vtx_Prob\n",
      "FourL_mass\n",
      "FourL_Vtx_Prob\n",
      "Y_lowPt\n",
      "Y_highPt\n"
     ]
    }
   ],
   "source": [
    "for field in events.fields:\n",
    "    print(field)"
   ]
  },
  {
   "cell_type": "code",
   "execution_count": 18,
   "metadata": {},
   "outputs": [],
   "source": [
    "m = ak.flatten(events[aggMask_list[8]]['Y_mass'], axis=1)"
   ]
  },
  {
   "cell_type": "code",
   "execution_count": 19,
   "metadata": {},
   "outputs": [
    {
     "data": {
      "text/plain": [
       "(array([160., 169., 189., 166., 189., 178., 180., 208., 207., 207.]),\n",
       " array([8.00371933, 8.20323658, 8.40275383, 8.60227108, 8.80178833,\n",
       "        9.00130558, 9.20082283, 9.40034008, 9.59985733, 9.79937458,\n",
       "        9.99889183]),\n",
       " <BarContainer object of 10 artists>)"
      ]
     },
     "execution_count": 19,
     "metadata": {},
     "output_type": "execute_result"
    },
    {
     "data": {
      "image/png": "[encoded data removed]",
      "text/plain": [
       "<Figure size 1000x1000 with 1 Axes>"
      ]
     },
     "metadata": {},
     "output_type": "display_data"
    }
   ],
   "source": [
    "plt.hist(m)"
   ]
  },
  {
   "cell_type": "code",
   "execution_count": null,
   "metadata": {},
   "outputs": [],
   "source": []
  },
  {
   "cell_type": "code",
   "execution_count": null,
   "metadata": {},
   "outputs": [],
   "source": []
  },
  {
   "cell_type": "code",
   "execution_count": null,
   "metadata": {},
   "outputs": [],
   "source": []
  },
  {
   "cell_type": "code",
   "execution_count": null,
   "metadata": {},
   "outputs": [],
   "source": []
  },
  {
   "cell_type": "code",
   "execution_count": null,
   "metadata": {},
   "outputs": [],
   "source": []
  },
  {
   "cell_type": "code",
   "execution_count": null,
   "metadata": {},
   "outputs": [],
   "source": []
  },
  {
   "cell_type": "code",
   "execution_count": 10,
   "metadata": {},
   "outputs": [
    {
     "ename": "NameError",
     "evalue": "name 'branches' is not defined",
     "output_type": "error",
     "traceback": [
      "\u001b[0;31m---------------------------------------------------------------------------\u001b[0m",
      "\u001b[0;31mNameError\u001b[0m                                 Traceback (most recent call last)",
      "Cell \u001b[0;32mIn[10], line 1\u001b[0m\n\u001b[0;32m----> 1\u001b[0m cut_FourLmass_candi \u001b[38;5;241m=\u001b[39m (\u001b[43mbranches\u001b[49m[\u001b[38;5;124m'\u001b[39m\u001b[38;5;124mFourL_mass\u001b[39m\u001b[38;5;124m'\u001b[39m] \u001b[38;5;241m>\u001b[39m \u001b[38;5;241m112\u001b[39m) \u001b[38;5;241m&\u001b[39m (branches[\u001b[38;5;124m'\u001b[39m\u001b[38;5;124mFourL_mass\u001b[39m\u001b[38;5;124m'\u001b[39m] \u001b[38;5;241m<\u001b[39m \u001b[38;5;241m162\u001b[39m)\n\u001b[1;32m      3\u001b[0m plt\u001b[38;5;241m.\u001b[39mfigure(figsize\u001b[38;5;241m=\u001b[39m(\u001b[38;5;241m8\u001b[39m, \u001b[38;5;241m8\u001b[39m))\n\u001b[1;32m      4\u001b[0m nbins, xlow, xhigh \u001b[38;5;241m=\u001b[39m \u001b[38;5;241m30\u001b[39m, \u001b[38;5;241m112\u001b[39m, \u001b[38;5;241m162\u001b[39m\n",
      "\u001b[0;31mNameError\u001b[0m: name 'branches' is not defined"
     ]
    }
   ],
   "source": [
    "cut_FourLmass_candi = (branches['FourL_mass'] > 112) & (branches['FourL_mass'] < 162)\n",
    "\n",
    "plt.figure(figsize=(8, 8))\n",
    "nbins, xlow, xhigh = 30, 112, 162\n",
    "plt.hist(ak.flatten(branches.FourL_mass), bins=nbins, label=\"FourL_mass\", alpha=0.5, range=(xlow, xhigh))\n",
    "mean = np.mean(ak.flatten(branches.FourL_mass))\n",
    "std = np.std(ak.flatten(branches.FourL_mass))\n",
    "plt.text(0.75, 0.9, f\"Mean: {mean:.2f}\\nStd: {std:.2f}\", transform=plt.gca().transAxes, fontsize=12)\n",
    "plt.text(0.75, 0.85, f\"Events: {len(ak.flatten(branches.FourL_mass))}\", transform=plt.gca().transAxes, fontsize=12)\n",
    "plt.xlabel('FourL inv mass (GeV)')\n",
    "plt.ylabel(f\"Counts / {(xhigh-xlow)/nbins:.2f} GeV\")\n",
    "plt.tight_layout()\n",
    "plt.savefig(f\"{savepath}/FourL_mass.png\")\n",
    "\n",
    "branches = branches[cut_FourLmass_candi]\n",
    "\n",
    "print_summary(branches, \"FourL mass\")"
   ]
  },
  {
   "cell_type": "code",
   "execution_count": null,
   "metadata": {},
   "outputs": [],
   "source": [
    "plt.figure(figsize=(6, 6))\n",
    "plt.plot(ak.flatten(branches.Y_eta1), ak.flatten(branches.Y_pt1), '.', label='Ele1')\n",
    "plt.legend()\n",
    "plt.xlabel('Ele eta')\n",
    "plt.ylabel('Ele pT')\n",
    "plt.tight_layout()\n",
    "\n",
    "plt.figure(figsize=(6, 6))\n",
    "plt.plot(ak.flatten(branches.Y_eta2), ak.flatten(branches.Y_pt2), '.', label='Ele2')\n",
    "plt.legend()\n",
    "plt.xlabel('Ele eta')\n",
    "plt.ylabel('Ele pT')\n",
    "plt.tight_layout()"
   ]
  },
  {
   "cell_type": "markdown",
   "metadata": {},
   "source": [
    "## Plotting cut steps"
   ]
  },
  {
   "cell_type": "code",
   "execution_count": null,
   "metadata": {},
   "outputs": [],
   "source": [
    "plt.figure(figsize=(8, 8))\n",
    "nbins, xlow, xhigh = 10, 2.8, 12\n",
    "\n",
    "plt.hist(before_ID_cuts_Y, bins=nbins, label=\"Acceptance cut\", alpha=0.5, range=(xlow, xhigh))\n",
    "plt.hist(before_trig_cut_Y, bins=nbins, label=f\"WP90 {eleID_cut_type}\", alpha=0.5, range=(xlow, xhigh))\n",
    "plt.xlabel('Dielectron inv mass (GeV)')\n",
    "plt.ylabel(f\"Counts / {(xhigh-xlow)/nbins:.2f} GeV\")\n",
    "plt.legend()\n",
    "plt.tight_layout()\n",
    "plt.savefig(f\"{savepath}/Y_mass_dist_for {eleID_cut_type} cuts.png\")\n",
    "\n"
   ]
  },
  {
   "cell_type": "code",
   "execution_count": null,
   "metadata": {},
   "outputs": [],
   "source": [
    "plt.figure(figsize=(8, 8))\n",
    "nbins, xlow, xhigh = 30, 70, 110\n",
    "\n",
    "plt.hist(before_mass_cuts_Z, bins=nbins, label=\"Acceptance cuts\", alpha=0.5, range=(xlow, xhigh))\n",
    "# plt.hist(before_ID_cuts_Z, bins=nbins, label=\"Mass cut\", alpha=0.5, range=(xlow, xhigh))\n",
    "plt.hist(before_trig_cut_Z, bins=nbins, label=f\"WP90 {eleID_cut_type}\", alpha=0.5, range=(xlow, xhigh))\n",
    "plt.xlabel('Dimuon inv mass (GeV)')\n",
    "plt.ylabel(f\"Counts / {(xhigh-xlow)/nbins:.2f} GeV\")\n",
    "plt.legend()\n",
    "plt.tight_layout()\n",
    "plt.savefig(f\"{savepath}/Z_mass_dist_for {eleID_cut_type} cuts.png\")"
   ]
  },
  {
   "cell_type": "code",
   "execution_count": null,
   "metadata": {},
   "outputs": [],
   "source": [
    "plt.figure(figsize=(8, 8))\n",
    "nbins, xlow, xhigh = 40, 5, 45\n",
    "\n",
    "plt.hist(Hpt_before_mass_cuts_Y, bins=nbins, label=\"Acceptance cut\", alpha=0.5, range=(xlow, xhigh))\n",
    "# plt.hist(Hpt_before_ID_cuts_Y, bins=nbins, label=\"Mass\", alpha=0.5, range=(xlow, xhigh))\n",
    "plt.hist(Hpt_before_trig_cut_Y, bins=nbins, label=f\"WP90 {eleID_cut_type}\", alpha=0.5, range=(xlow, xhigh))\n",
    "plt.xlabel('High pT electron (GeV)')\n",
    "plt.ylabel(f\"Counts / {(xhigh-xlow)/nbins:.2f} GeV\")\n",
    "plt.legend()\n",
    "plt.tight_layout()\n",
    "plt.savefig(f\"{savepath}/Y_highPt_dist_for {eleID_cut_type} cuts.png\")\n",
    "\n",
    "plt.figure(figsize=(8, 8))\n",
    "nbins, xlow, xhigh = 30, 5, 20\n",
    "\n",
    "plt.hist(Lpt_before_mass_cuts_Y, bins=nbins, label=\"Acceptance cut\", alpha=0.5, range=(xlow, xhigh))\n",
    "# plt.hist(Lpt_before_ID_cuts_Y, bins=nbins, label=\"Mass\", alpha=0.5, range=(xlow, xhigh))\n",
    "plt.hist(Lpt_before_trig_cut_Y, bins=nbins, label=f\"WP90 {eleID_cut_type}\", alpha=0.5, range=(xlow, xhigh))\n",
    "plt.xlabel('Low pT electron (GeV)')\n",
    "plt.ylabel(f\"Counts / {(xhigh-xlow)/nbins:.2f} GeV\")\n",
    "plt.legend()\n",
    "plt.tight_layout()\n",
    "plt.savefig(f\"{savepath}/Y_lowPt_dist_for {eleID_cut_type} cuts.png\")"
   ]
  },
  {
   "cell_type": "code",
   "execution_count": null,
   "metadata": {},
   "outputs": [],
   "source": [
    "plt.figure(figsize=(8, 8))\n",
    "nbins, xlow, xhigh = 30, 20, 150\n",
    "\n",
    "plt.hist(Hpt_before_mass_cuts_Z, bins=nbins, label=\"Acceptance cuts\", alpha=0.5, range=(xlow, xhigh))\n",
    "# plt.hist(Hpt_before_ID_cuts_Z, bins=nbins, label=\"Mass cut\", alpha=0.5, range=(xlow, xhigh))\n",
    "plt.hist(Hpt_before_trig_cut_Z, bins=nbins, label=f\"WP90 {eleID_cut_type}\", alpha=0.5, range=(xlow, xhigh))\n",
    "plt.xlabel('High pT Muon (GeV)')\n",
    "plt.ylabel(f\"Counts / {(xhigh-xlow)/nbins:.2f} GeV\")\n",
    "plt.legend()\n",
    "plt.tight_layout()\n",
    "plt.savefig(f\"{savepath}/Z_highPt_dist_for {eleID_cut_type} cuts.png\")\n",
    "\n",
    "plt.figure(figsize=(8, 8))\n",
    "nbins, xlow, xhigh = 30, 0, 100\n",
    "\n",
    "plt.hist(Lpt_before_mass_cuts_Z, bins=nbins, label=\"Acceptance cuts\", alpha=0.5, range=(xlow, xhigh))\n",
    "# plt.hist(Lpt_before_ID_cuts_Z, bins=nbins, label=\"Mass cut\", alpha=0.5, range=(xlow, xhigh))\n",
    "plt.hist(Lpt_before_trig_cut_Z, bins=nbins, label=f\"WP90 {eleID_cut_type}\", alpha=0.5, range=(xlow, xhigh))\n",
    "plt.xlabel('Low pT Muon (GeV)')\n",
    "plt.ylabel(f\"Counts / {(xhigh-xlow)/nbins:.2f} GeV\")\n",
    "plt.legend()\n",
    "plt.tight_layout()\n",
    "plt.savefig(f\"{savepath}/Z_lowPt_dist_for {eleID_cut_type} cuts.png\")"
   ]
  },
  {
   "cell_type": "code",
   "execution_count": null,
   "metadata": {},
   "outputs": [],
   "source": [
    "# highestPt_muon = ak.argmax(branches.Z_highPt, axis=1, keepdims=True, mask_identity=True)\n",
    "\n",
    "# cut_ZtrackIso_candi = (branches['Z_trackIso1'][highestPt_muon] < 0.35) & (branches['Z_trackIso2'][highestPt_muon] < 0.35)\n",
    "# cut_ZtrackIso_event = ak.any(cut_ZtrackIso_candi, axis=1)\n",
    "\n",
    "# plt.hist(ak.flatten(branches.Z_trackIso1[highestPt_muon]), bins=100, range=(0, 2), label=\"Z_trackIso1\", alpha=0.5)\n",
    "# plt.hist(ak.flatten(branches.Z_trackIso2[highestPt_muon]), bins=100, range=(0, 2), label=\"Z_trackIso2\", alpha=0.5)\n",
    "# plt.axvline(x=0.35, color='r')\n",
    "# plt.xlabel('Z_trackIso')\n",
    "# # plt.xlim([0,1])\n",
    "# plt.legend()\n",
    "\n",
    "# branches = branches[cut_ZtrackIso_candi][cut_ZtrackIso_event]\n",
    "\n",
    "# print_summary(branches, \"ZTrackIso\")"
   ]
  },
  {
   "cell_type": "markdown",
   "metadata": {},
   "source": [
    "## Fitting"
   ]
  },
  {
   "cell_type": "code",
   "execution_count": null,
   "metadata": {},
   "outputs": [],
   "source": [
    "plt.figure(figsize=(8, 8))\n",
    "nbins, xlow, xhigh = 20, 2.8, 12\n",
    "plt.hist(ak.flatten(branches.Y_mass), bins=nbins, label=\"Y_mass\", alpha=0.5, range=(xlow, xhigh))\n",
    "\n",
    "# show mean and std on plot\n",
    "mean = np.mean(ak.flatten(branches.Y_mass))\n",
    "std = np.std(ak.flatten(branches.Y_mass))\n",
    "plt.text(0.8, 0.9, f\"Mean: {mean:.2f}\\nStd: {std:.2f}\", transform=plt.gca().transAxes, fontsize=12)\n",
    "plt.text(0.8, 0.85, f\"Events: {len(ak.flatten(branches.Y_mass))}\", transform=plt.gca().transAxes, fontsize=12)\n",
    "\n",
    "plt.xlabel('Dielectron inv mass (GeV)')\n",
    "plt.ylabel(f\"Counts / {(xhigh-xlow)/nbins:.2f} GeV\")\n",
    "plt.tight_layout()\n",
    "plt.savefig(f\"{savepath}/fit_histogram_Y_{eleID_cut_type}.png\")\n",
    "\n",
    "plt.figure(figsize=(8, 8))\n",
    "nbins, xlow, xhigh = 20, 70, 110\n",
    "plt.hist(ak.flatten(branches.Z_mass), bins=nbins, label=\"Z_mass\", alpha=0.5, range=(xlow, xhigh))\n",
    "\n",
    "# show mean and std on plot\n",
    "mean = np.mean(ak.flatten(branches.Z_mass))\n",
    "std = np.std(ak.flatten(branches.Z_mass))\n",
    "plt.text(0.8, 0.9, f\"Mean: {mean:.2f}\\nStd: {std:.2f}\", transform=plt.gca().transAxes, fontsize=12)\n",
    "plt.text(0.8, 0.85, f\"Events: {len(ak.flatten(branches.Z_mass))}\", transform=plt.gca().transAxes, fontsize=12)\n",
    "\n",
    "plt.xlabel('Dimuon inv mass (GeV)')\n",
    "plt.ylabel(f\"Counts / {(xhigh-xlow)/nbins:.2f} GeV\")\n",
    "plt.tight_layout()\n",
    "plt.savefig(f\"{savepath}/fit_histogram_Z_{eleID_cut_type}.png\")"
   ]
  },
  {
   "cell_type": "code",
   "execution_count": null,
   "metadata": {},
   "outputs": [],
   "source": [
    "Z_candidates = ak.flatten(branches['Z_mass']).to_numpy()\n",
    "Z_mass = ROOT.RooRealVar(\"Z_mass\", \"Z_mass\", 70, 110, \"GeV\")\n",
    "data = ROOT.RooDataSet.from_numpy({f\"Z_mass\": Z_candidates}, [Z_mass])\n",
    "\n",
    "frame = fit_unbinned_gauss_with_background(data, Z_mass, 20)\n",
    "\n",
    "# Draw the frame on the canvas\n",
    "canvas = ROOT.TCanvas(\"canvas\", \"Z Candidates\")\n",
    "frame.Draw()\n",
    "canvas.Draw()\n",
    "canvas.SaveAs(f\"{savepath}/fit_gauss_Z_{eleID_cut_type}.png\")"
   ]
  },
  {
   "cell_type": "code",
   "execution_count": null,
   "metadata": {},
   "outputs": [],
   "source": [
    "Y_candidates = ak.flatten(branches['Y_mass']).to_numpy()\n",
    "Y_mass = ROOT.RooRealVar(\"Y_mass\", \"Y_mass\", 2.8, 12, \"GeV\")\n",
    "data = ROOT.RooDataSet.from_numpy({f\"Y_mass\": Y_candidates}, [Y_mass])\n",
    "\n",
    "frame = fit_unbinned_double_gauss(data, Y_mass, 20)\n",
    "\n",
    "# Draw the frame on the canvas\n",
    "canvas = ROOT.TCanvas(\"canvas\", \"Y Candidates\")\n",
    "frame.Draw()\n",
    "canvas.Draw()\n",
    "canvas.SaveAs(f\"{savepath}/fit_dg_Y_{eleID_cut_type}.png\")"
   ]
  },
  {
   "cell_type": "code",
   "execution_count": null,
   "metadata": {},
   "outputs": [],
   "source": []
  },
  {
   "cell_type": "code",
   "execution_count": null,
   "metadata": {},
   "outputs": [],
   "source": []
  }
 ],
 "metadata": {
  "kernelspec": {
   "display_name": "work",
   "language": "python",
   "name": "python3"
  },
  "language_info": {
   "codemirror_mode": {
    "name": "ipython",
    "version": 3
   },
   "file_extension": ".py",
   "mimetype": "text/x-python",
   "name": "python",
   "nbconvert_exporter": "python",
   "pygments_lexer": "ipython3",
   "version": "3.9.19"
  }
 },
 "nbformat": 4,
 "nbformat_minor": 2
}
